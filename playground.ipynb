{
 "cells": [
  {
   "cell_type": "code",
   "execution_count": 199,
   "metadata": {},
   "outputs": [],
   "source": [
    "import subprocess\n",
    "from unicorn import *\n",
    "from unicorn.riscv_const import *"
   ]
  },
  {
   "cell_type": "code",
   "execution_count": 200,
   "metadata": {},
   "outputs": [
    {
     "data": {
      "text/plain": [
       "b'9q\"\\xfc&\\xf8J\\xf4N\\xf0R\\xec\\x80\\x00\\xb7\\x07\\x00\\x00\\x93\\x87\\x07\\x00\\x98c#0\\xe4\\xfc\\x9cg#4\\xf4\\xfc\\x81I\\x11J\\x01I=\\xa8\\xca\\x84\\x05\\t\\x93\\x97$\\x00\\x93\\x87\\x07\\xfd\\xa2\\x97\\x83\\xa7\\x07\\xff\\xbb\\x87\\xf9\\x00\\x9b\\x89\\x07\\x00\\x93\\x97$\\x00\\x93\\x87\\x07\\xfd\\xa2\\x97\\x83\\xa7\\x07\\xff\\x85\\'\\x1b\\x87\\x07\\x00\\x93\\x97$\\x00\\x93\\x87\\x07\\xfd\\xa2\\x97#\\xa8\\xe7\\xfeJ\\x87\\xd2\\x87\\xe3@I\\xfd\\x01\\x00\\x01\\x00bt\\xc2t\"y\\x82ybj!a\\x82\\x80'"
      ]
     },
     "execution_count": 200,
     "metadata": {},
     "output_type": "execute_result"
    }
   ],
   "source": [
    "o_filename = './for_opt.o'\n",
    "s = subprocess.check_output([\"riscv64-unknown-linux-gnu-objcopy\", o_filename, '/dev/null', '--dump-section', '.text=text.data'])\n",
    "with open('text.data', 'rb') as f:\n",
    "    text_hex = f.read()\n",
    "text_hex"
   ]
  },
  {
   "cell_type": "code",
   "execution_count": 201,
   "metadata": {},
   "outputs": [
    {
     "data": {
      "text/plain": [
       "b'\\x01\\x00\\x00\\x00\\x02\\x00\\x00\\x00\\x03\\x00\\x00\\x00\\x04\\x00\\x00\\x00'"
      ]
     },
     "execution_count": 201,
     "metadata": {},
     "output_type": "execute_result"
    }
   ],
   "source": [
    "o_filename = './for_opt.o'\n",
    "s = subprocess.check_output([\"riscv64-unknown-linux-gnu-objcopy\", o_filename, '/dev/null', '--dump-section', '.rodata=rodata.data'])\n",
    "with open('rodata.data', 'rb') as f:\n",
    "    rodata_hex = f.read()\n",
    "rodata_hex"
   ]
  },
  {
   "cell_type": "code",
   "execution_count": 202,
   "metadata": {},
   "outputs": [],
   "source": [
    "# o_filename = './bubble_sort.o'\n",
    "# s = subprocess.check_output([\"riscv64-unknown-linux-gnu-objcopy\", o_filename, '/dev/null', '--dump-section', '.text=text.data'])\n",
    "# with open('text.data', 'rb') as f:\n",
    "#     text_hex = f.read()\n",
    "# text_hex"
   ]
  },
  {
   "cell_type": "code",
   "execution_count": 203,
   "metadata": {},
   "outputs": [],
   "source": [
    "# o_filename = './bubble_sort.o'\n",
    "# s = subprocess.check_output([\"riscv64-unknown-linux-gnu-objcopy\", o_filename, '/dev/null', '--dump-section', '.rodata=rodata.data'])\n",
    "# with open('rodata.data', 'rb') as f:\n",
    "#     rodata_hex = f.read()\n",
    "# rodata_hex"
   ]
  },
  {
   "cell_type": "code",
   "execution_count": 204,
   "metadata": {},
   "outputs": [],
   "source": [
    "# o_filename = './insertion_sort.o'\n",
    "# s = subprocess.check_output([\"riscv64-unknown-linux-gnu-objcopy\", o_filename, '/dev/null', '--dump-section', '.text=text.data'])\n",
    "# with open('text.data', 'rb') as f:\n",
    "#     text_hex = f.read()\n",
    "# text_hex"
   ]
  },
  {
   "cell_type": "code",
   "execution_count": 205,
   "metadata": {},
   "outputs": [],
   "source": [
    "# o_filename = './insertion_sort.o'\n",
    "# s = subprocess.check_output([\"riscv64-unknown-linux-gnu-objcopy\", o_filename, '/dev/null', '--dump-section', '.rodata=rodata.data'])\n",
    "# with open('rodata.data', 'rb') as f:\n",
    "#     rodata_hex = f.read()\n",
    "# rodata_hex"
   ]
  },
  {
   "cell_type": "code",
   "execution_count": 206,
   "metadata": {},
   "outputs": [
    {
     "name": "stdout",
     "output_type": "stream",
     "text": [
      "Emulate RISCV code\n",
      "At 0x1006a, instruction = 0xfd4940e3  COND.B: rs1 = 18, rs2 = 20, last_access = 0x10026  0x10024\n",
      "At 0x1002c, instruction = 0x905  C.ADDI: rs1 = 18, rd = 18\n",
      "At 0x1006a, instruction = 0xfd4940e3  COND.B: rs1 = 18, rs2 = 20, last_access = 0x1002c  0x10024\n",
      "At 0x1002c, instruction = 0x905  C.ADDI: rs1 = 18, rd = 18\n",
      "At 0x1006a, instruction = 0xfd4940e3  COND.B: rs1 = 18, rs2 = 20, last_access = 0x1002c  0x10024\n",
      "At 0x1002c, instruction = 0x905  C.ADDI: rs1 = 18, rd = 18\n",
      "At 0x1006a, instruction = 0xfd4940e3  COND.B: rs1 = 18, rs2 = 20, last_access = 0x1002c  0x10024\n",
      "At 0x1002c, instruction = 0x905  C.ADDI: rs1 = 18, rd = 18\n",
      "At 0x1006a, instruction = 0xfd4940e3  COND.B: rs1 = 18, rs2 = 20, last_access = 0x1002c  0x10024\n",
      "At 0x1006e, instruction = 0x1  C.ADDI: rs1 = 0, rd = 0\n",
      "At 0x10070, instruction = 0x1  C.ADDI: rs1 = 0, rd = 0\n",
      ">>> SP = 0x20000\n",
      ">>> S0 = 0x0\n",
      ">>> A4 = 0x4\n",
      ">>> A5 = 0x4\n",
      "0\n",
      "0\n",
      "0\n",
      "0\n",
      "0\n",
      "0\n"
     ]
    }
   ],
   "source": [
    "d = {i:[] for i in range(32)}\n",
    "lastest_reg_used = [0] * 32\n",
    "\n",
    "# memory address where emulation starts\n",
    "ADDRESS    = 0x10000\n",
    "\n",
    "STC_ADDRESS = 0x20000\n",
    "\n",
    "distance_list = []\n",
    "\n",
    "# callback for tracing instructions\n",
    "def hook_code(uc, address, size, user_data):\n",
    "    for i in range(32):\n",
    "        lastest_reg_used[i] += 1\n",
    "    \n",
    "    inst = int.from_bytes(text_hex[address-ADDRESS:address-ADDRESS+size], 'little')\n",
    "    if size == 4:\n",
    "        opcode = inst & 0b1111111\n",
    "        rs2 = (inst >> 20) & 0b11111\n",
    "        rs1 = (inst >> 15) & 0b11111\n",
    "        rd = (inst >> 7) & 0b11111\n",
    "        \n",
    "        # print(\">>> Tracing branch instruction at 0x{:x}, instruction = 0x{:x}, rs2 = {}, rs1 = {}\".format(address, inst, rs2, rs1))\n",
    "        if opcode == 0x13:\n",
    "            # print('At 0x{:x}, instruction = 0x{:x}  ALUI: rs1 = {}, rd = {}'.format(address, inst, rs1, rd))\n",
    "            d[rd].append(address)\n",
    "            lastest_reg_used[rd] = 0\n",
    "        elif opcode == 0x03:\n",
    "            # print('At 0x{:x}, instruction = 0x{:x}  LOAD: rs1 = {}, rd = {}'.format(address, inst, rs1, rd))\n",
    "            d[rd].append(address)\n",
    "            lastest_reg_used[rd] = 0\n",
    "        elif opcode == 0x37:\n",
    "            # print('At 0x{:x}, instruction = 0x{:x}  LUI: rd = {}'.format(address, inst, rd))\n",
    "            d[rd].append(address)\n",
    "            lastest_reg_used[rd] = 0\n",
    "        elif opcode == 0x1b:\n",
    "            # print('At 0x{:x}, instruction = 0x{:x}  ADDIW: rs1 = {}, rd = {}'.format(address, inst, rs1, rd))\n",
    "            d[rd].append(address)\n",
    "            lastest_reg_used[rd] = 0\n",
    "        elif opcode == 0x63:\n",
    "            # pass\n",
    "            print('At 0x{:x}, instruction = 0x{:x}  COND.B: rs1 = {}, rs2 = {}, last_access = 0x{:x}  0x{:x}'.format(address, inst, rs1, rs2, d[rs1][-1], d[rs2][-1]))\n",
    "            # print(lastest_reg_used)\n",
    "            user_data += [lastest_reg_used[rs1], lastest_reg_used[rs2]]\n",
    "            \n",
    "        \n",
    "    elif size == 2:\n",
    "        opcode_1 = (inst >> 13) & 0b111\n",
    "        opcode_2 = inst & 0b11\n",
    "        \n",
    "        if opcode_2 == 0b00:\n",
    "            rs1 = ((inst >> 7) & 0b111) + 8 \n",
    "            rd = ((inst >> 2) & 0b111) + 8 \n",
    "            if opcode_1 == 0b011:\n",
    "                # print('At 0x{:x}, instruction = 0x{:x}  C.LD: rs1 = {}, rd = {}'.format(address, inst, rs1, rd))\n",
    "                d[rd].append(address)\n",
    "                lastest_reg_used[rd] = 0\n",
    "            if opcode_1 == 0b000:\n",
    "                # print('At 0x{:x}, instruction = 0x{:x}  C.ADDI4SPN: rs1 = {}, rd = {}'.format(address, inst, 2, rd))\n",
    "                d[rd].append(address)\n",
    "                lastest_reg_used[rd] = 0\n",
    "        elif opcode_2 == 0b01:\n",
    "            rd = (inst >> 7) & 0b11111\n",
    "            rs1 = (inst >> 7) & 0b11111\n",
    "            if opcode_1 == 0b000:\n",
    "                print('At 0x{:x}, instruction = 0x{:x}  C.ADDI: rs1 = {}, rd = {}'.format(address, inst, rs1, rd))\n",
    "                d[rd].append(address)\n",
    "                lastest_reg_used[rd] = 0\n",
    "            elif opcode_1 == 0b100:\n",
    "                rs2 = ((inst >> 2) & 0b111) + 8\n",
    "                rd = ((inst >> 7) & 0b111) + 8\n",
    "                rd = ((inst >> 7) & 0b111) + 8\n",
    "                # print('At 0x{:x}, instruction = 0x{:x}  C.ADDW: rs1 = {}, rd = {}, rs = {}'.format(address, inst, rs1, rd, rs2))\n",
    "                d[rd].append(address)\n",
    "                lastest_reg_used[rd] = 0\n",
    "            elif opcode_1 == 0b010:\n",
    "                rd = (inst >> 7) & 0b11111\n",
    "                # print('At 0x{:x}, instruction = 0x{:x}  C.LI:  rd = {}'.format(address, inst, rd))\n",
    "                d[rd].append(address)\n",
    "                lastest_reg_used[rd] = 0\n",
    "        elif opcode_2 == 0b10:\n",
    "            rs1 = (inst >> 7) & 0b11111\n",
    "            rd = (inst >> 7) & 0b11111\n",
    "            rs2 = (inst >> 2) & 0b11111\n",
    "            if opcode_1 == 0b000:\n",
    "                # print('At 0x{:x}, instruction = 0x{:x}  C.SLLI: rs1 = {}, rd = {}'.format(address, inst, rs1, rd))\n",
    "                d[rd].append(address)\n",
    "                lastest_reg_used[rd] = 0\n",
    "            elif opcode_1 == 0b100:\n",
    "                # print('At 0x{:x}, instruction = 0x{:x}  C.ADD: rs1 = {}, rd = {}, rs2 = {}'.format(address, inst, rs1, rd, rs2))\n",
    "                d[rd].append(address)\n",
    "                lastest_reg_used[rd] = 0\n",
    "        elif opcode_2 == 0b11:\n",
    "            print('Something Wrong when size = 2')\n",
    "        \n",
    "\n",
    "# Test RISCV\n",
    "def test_riscv():\n",
    "    print(\"Emulate RISCV code\")\n",
    "    try:\n",
    "        # Initialize emulator in RISCV32 mode\n",
    "        mu = Uc(UC_ARCH_RISCV, UC_MODE_RISCV64)\n",
    "    \n",
    "        # map 2MB memory for this emulation\n",
    "        mu.mem_map(0x0, 2 * 1024 * 1024)\n",
    "        \n",
    "        # write machine code to be emulated to memory\n",
    "        mu.mem_write(0x0, rodata_hex)\n",
    "        \n",
    "        mu.mem_write(ADDRESS, text_hex)\n",
    "\n",
    "        # initialize machine registers\n",
    "        mu.reg_write(UC_RISCV_REG_SP, STC_ADDRESS)\n",
    "        \n",
    "        mu.reg_write(UC_RISCV_REG_RA, ADDRESS + len(text_hex))\n",
    "\n",
    "        # tracing all instructions with customized callback\n",
    "        mu.hook_add(UC_HOOK_CODE, hook_code, distance_list)\n",
    "\n",
    "        # emulate machine code in infinite time\n",
    "        mu.emu_start(ADDRESS, ADDRESS + len(text_hex))\n",
    "        # mu.emu_start(ADDRESS, ADDRESS + 0x24)\n",
    "        \n",
    "        sp = mu.reg_read(UC_RISCV_REG_SP)\n",
    "        print(\">>> SP = 0x%x\" %sp)\n",
    "        \n",
    "        s0 = mu.reg_read(UC_RISCV_REG_S0)\n",
    "        print(\">>> S0 = 0x%x\" %s0)\n",
    "        \n",
    "        a4 = mu.reg_read(UC_RISCV_REG_A4)\n",
    "        print(\">>> A4 = 0x%x\" %a4)\n",
    "        \n",
    "        a5 = mu.reg_read(UC_RISCV_REG_A5)\n",
    "        print(\">>> A5 = 0x%x\" %a5)\n",
    "\n",
    "        print(int.from_bytes(mu.mem_read(STC_ADDRESS-40, 4), 'little'))\n",
    "        \n",
    "        print(int.from_bytes(mu.mem_read(STC_ADDRESS-36, 4), 'little'))\n",
    "        \n",
    "        print(int.from_bytes(mu.mem_read(STC_ADDRESS-32, 4), 'little'))\n",
    "        \n",
    "        print(int.from_bytes(mu.mem_read(STC_ADDRESS-28, 4), 'little'))\n",
    "        \n",
    "        print(int.from_bytes(mu.mem_read(STC_ADDRESS-24, 4), 'little'))\n",
    "        \n",
    "        print(int.from_bytes(mu.mem_read(STC_ADDRESS-20, 4), 'little'))\n",
    "\n",
    "    except UcError as e:\n",
    "        print(\"ERROR: %s\" % e)\n",
    "        \n",
    "test_riscv()"
   ]
  },
  {
   "cell_type": "code",
   "execution_count": 207,
   "metadata": {},
   "outputs": [
    {
     "data": {
      "text/plain": [
       "[4, 5, 19, 26, 19, 47, 19, 68, 19, 89]"
      ]
     },
     "execution_count": 207,
     "metadata": {},
     "output_type": "execute_result"
    }
   ],
   "source": [
    "distance_list"
   ]
  },
  {
   "cell_type": "code",
   "execution_count": 208,
   "metadata": {},
   "outputs": [
    {
     "data": {
      "text/plain": [
       "Counter({4: 1, 5: 1, 19: 4, 26: 1, 47: 1, 68: 1, 89: 1})"
      ]
     },
     "execution_count": 208,
     "metadata": {},
     "output_type": "execute_result"
    }
   ],
   "source": [
    "from collections import Counter\n",
    "Counter(distance_list)"
   ]
  },
  {
   "cell_type": "code",
   "execution_count": 209,
   "metadata": {},
   "outputs": [
    {
     "data": {
      "image/png": "[encoded data removed]",
      "text/plain": [
       "<Figure size 432x288 with 1 Axes>"
      ]
     },
     "metadata": {
      "needs_background": "light"
     },
     "output_type": "display_data"
    }
   ],
   "source": [
    "import matplotlib.pyplot as plt\n",
    "plt.hist(distance_list)\n",
    "plt.xlabel('# of instructions that branch outcome can be calculate in advance ')\n",
    "plt.ylabel('# of branches')\n",
    "plt.title('Optimized Array Sum')\n",
    "plt.show() "
   ]
  }
 ],
 "metadata": {
  "kernelspec": {
   "display_name": "Python 3.8.10 64-bit",
   "language": "python",
   "name": "python3"
  },
  "language_info": {
   "codemirror_mode": {
    "name": "ipython",
    "version": 3
   },
   "file_extension": ".py",
   "mimetype": "text/x-python",
   "name": "python",
   "nbconvert_exporter": "python",
   "pygments_lexer": "ipython3",
   "version": "3.8.10 (default, Jun 22 2022, 20:18:18) \n[GCC 9.4.0]"
  },
  "orig_nbformat": 4,
  "vscode": {
   "interpreter": {
    "hash": "767d51c1340bd893661ea55ea3124f6de3c7a262a8b4abca0554b478b1e2ff90"
   }
  }
 },
 "nbformat": 4,
 "nbformat_minor": 2
}
